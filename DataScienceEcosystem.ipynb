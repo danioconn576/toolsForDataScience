{
 "cells": [
  {
   "cell_type": "markdown",
   "id": "785a5d6d-4c54-4e26-a793-c3df4cfbef80",
   "metadata": {},
   "source": [
    "# Data Science Tools and Ecosystem"
   ]
  },
  {
   "cell_type": "markdown",
   "id": "e84823d2-0400-40ec-8509-40211a3687cd",
   "metadata": {},
   "source": [
    "## **Author:**\n"
   ]
  },
  {
   "cell_type": "markdown",
   "id": "bff8d1e2-adaa-49d0-89d1-a19522950252",
   "metadata": {},
   "source": [
    "### In this notebook, Data Science Tools and Ecosystem are summarized.\n"
   ]
  },
  {
   "cell_type": "markdown",
   "id": "4e73b72b-7c0d-400e-9901-0f544ecefdc4",
   "metadata": {},
   "source": [
    "### **Objectives:**\n",
    "- List commonly used libraries by Data Scientists\n",
    "- List popular languages among Data Scientists\n",
    "- Explore evaluating arithmetic expressions using Python"
   ]
  },
  {
   "cell_type": "markdown",
   "id": "60468ffd-4ac3-4a07-a8ba-91c809a5b69e",
   "metadata": {},
   "source": [
    "### Some of the popular languages that Data Scientists use are:\n",
    "1. SQL\n",
    "2. Python\n",
    "3. R\n"
   ]
  },
  {
   "cell_type": "markdown",
   "id": "7d93404b-6048-4e4b-bab8-351a69820d15",
   "metadata": {},
   "source": [
    "### Some of the commonly used libraries used by Data Scientists include::\n",
    "1. Pandas\n",
    "2. Matplotlib\n",
    "3. Numpy\n"
   ]
  },
  {
   "cell_type": "markdown",
   "id": "01dd2915-1cc8-43a3-8fe4-b9efb3ff1100",
   "metadata": {},
   "source": [
    "| Data Science Tools |\n",
    "|---------------------|\n",
    "| Jupyter Notebook |\n",
    "| RStudio |\n",
    "| Apache Spark |\n"
   ]
  },
  {
   "cell_type": "markdown",
   "id": "fab194a4-eba6-4668-9324-db35dbe819c8",
   "metadata": {},
   "source": [
    "### Below are a few examples of evaluating arithmetic expressions in Python:\n"
   ]
  },
  {
   "cell_type": "code",
   "execution_count": 39,
   "id": "fc4ec32d-1fc7-4d28-9975-4de4a0216a9e",
   "metadata": {},
   "outputs": [
    {
     "data": {
      "text/plain": [
       "17"
      ]
     },
     "execution_count": 39,
     "metadata": {},
     "output_type": "execute_result"
    }
   ],
   "source": [
    "# This a simple arithmetic expression to mutiply then add integers\n",
    "(3*4)+5"
   ]
  },
  {
   "cell_type": "code",
   "execution_count": 40,
   "id": "10650d9a-901c-435c-a714-22466ad7ad3e",
   "metadata": {},
   "outputs": [
    {
     "data": {
      "text/plain": [
       "3.3333333333333335"
      ]
     },
     "execution_count": 40,
     "metadata": {},
     "output_type": "execute_result"
    }
   ],
   "source": [
    "# This will convert 200 minutes to hours by diving by 60.\n",
    "(200/60) "
   ]
  },
  {
   "cell_type": "code",
   "execution_count": null,
   "id": "f93f2c8b-22d6-4522-a21a-41d58deefe06",
   "metadata": {},
   "outputs": [],
   "source": []
  }
 ],
 "metadata": {
  "kernelspec": {
   "display_name": "Python [conda env:base] *",
   "language": "python",
   "name": "conda-base-py"
  },
  "language_info": {
   "codemirror_mode": {
    "name": "ipython",
    "version": 3
   },
   "file_extension": ".py",
   "mimetype": "text/x-python",
   "name": "python",
   "nbconvert_exporter": "python",
   "pygments_lexer": "ipython3",
   "version": "3.12.7"
  }
 },
 "nbformat": 4,
 "nbformat_minor": 5
}
